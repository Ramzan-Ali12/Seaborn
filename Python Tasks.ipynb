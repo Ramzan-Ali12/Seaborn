{
 "cells": [
  {
   "cell_type": "code",
   "execution_count": 2,
   "id": "006c904e",
   "metadata": {},
   "outputs": [
    {
     "name": "stdout",
     "output_type": "stream",
     "text": [
      "Hello Python\n"
     ]
    }
   ],
   "source": [
    "print(\"Hello Python\")"
   ]
  },
  {
   "cell_type": "code",
   "execution_count": 6,
   "id": "dcf32418",
   "metadata": {},
   "outputs": [],
   "source": [
    "student=\"ali\""
   ]
  },
  {
   "cell_type": "code",
   "execution_count": 30,
   "id": "b997d5cf",
   "metadata": {},
   "outputs": [
    {
     "data": {
      "text/plain": [
       "'Hamza'"
      ]
     },
     "execution_count": 30,
     "metadata": {},
     "output_type": "execute_result"
    }
   ],
   "source": [
    "student"
   ]
  },
  {
   "cell_type": "code",
   "execution_count": null,
   "id": "63d0dcbb",
   "metadata": {},
   "outputs": [],
   "source": [
    "#Data Types in python"
   ]
  },
  {
   "cell_type": "code",
   "execution_count": 10,
   "id": "735ae465",
   "metadata": {},
   "outputs": [],
   "source": [
    "#String \n",
    "student=\"Hamza\""
   ]
  },
  {
   "cell_type": "code",
   "execution_count": 11,
   "id": "1df8fec9",
   "metadata": {},
   "outputs": [
    {
     "data": {
      "text/plain": [
       "'Hamza'"
      ]
     },
     "execution_count": 11,
     "metadata": {},
     "output_type": "execute_result"
    }
   ],
   "source": [
    "student"
   ]
  },
  {
   "cell_type": "code",
   "execution_count": 13,
   "id": "1cc1bc41",
   "metadata": {},
   "outputs": [
    {
     "data": {
      "text/plain": [
       "str"
      ]
     },
     "execution_count": 13,
     "metadata": {},
     "output_type": "execute_result"
    }
   ],
   "source": [
    "type(student)"
   ]
  },
  {
   "cell_type": "code",
   "execution_count": 15,
   "id": "5ca3eb5d",
   "metadata": {},
   "outputs": [
    {
     "data": {
      "text/plain": [
       "10"
      ]
     },
     "execution_count": 15,
     "metadata": {},
     "output_type": "execute_result"
    }
   ],
   "source": [
    "#integer\n",
    "a=10\n",
    "a"
   ]
  },
  {
   "cell_type": "code",
   "execution_count": 16,
   "id": "0023e585",
   "metadata": {},
   "outputs": [
    {
     "data": {
      "text/plain": [
       "int"
      ]
     },
     "execution_count": 16,
     "metadata": {},
     "output_type": "execute_result"
    }
   ],
   "source": [
    "type(a)"
   ]
  },
  {
   "cell_type": "code",
   "execution_count": 17,
   "id": "9c6552fa",
   "metadata": {},
   "outputs": [
    {
     "data": {
      "text/plain": [
       "3.14"
      ]
     },
     "execution_count": 17,
     "metadata": {},
     "output_type": "execute_result"
    }
   ],
   "source": [
    "#float\n",
    "a=3.14\n",
    "a"
   ]
  },
  {
   "cell_type": "code",
   "execution_count": 18,
   "id": "7083b405",
   "metadata": {},
   "outputs": [
    {
     "data": {
      "text/plain": [
       "float"
      ]
     },
     "execution_count": 18,
     "metadata": {},
     "output_type": "execute_result"
    }
   ],
   "source": [
    "type(a)"
   ]
  },
  {
   "cell_type": "code",
   "execution_count": 20,
   "id": "e5375c89",
   "metadata": {},
   "outputs": [
    {
     "data": {
      "text/plain": [
       "'This is python programme'"
      ]
     },
     "execution_count": 20,
     "metadata": {},
     "output_type": "execute_result"
    }
   ],
   "source": [
    "#This is also a string\n",
    "a=\"This is python programme\"\n",
    "a"
   ]
  },
  {
   "cell_type": "code",
   "execution_count": 22,
   "id": "2d0bbf58",
   "metadata": {},
   "outputs": [
    {
     "data": {
      "text/plain": [
       "str"
      ]
     },
     "execution_count": 22,
     "metadata": {},
     "output_type": "execute_result"
    }
   ],
   "source": [
    "type(a)"
   ]
  },
  {
   "cell_type": "code",
   "execution_count": 24,
   "id": "0bec0f99",
   "metadata": {},
   "outputs": [
    {
     "data": {
      "text/plain": [
       "True"
      ]
     },
     "execution_count": 24,
     "metadata": {},
     "output_type": "execute_result"
    }
   ],
   "source": [
    "#Boolean \n",
    "a=True\n",
    "a"
   ]
  },
  {
   "cell_type": "code",
   "execution_count": 25,
   "id": "118a1a54",
   "metadata": {},
   "outputs": [
    {
     "data": {
      "text/plain": [
       "bool"
      ]
     },
     "execution_count": 25,
     "metadata": {},
     "output_type": "execute_result"
    }
   ],
   "source": [
    "type(a)"
   ]
  },
  {
   "cell_type": "code",
   "execution_count": 26,
   "id": "1f506d83",
   "metadata": {},
   "outputs": [
    {
     "data": {
      "text/plain": [
       "'hello world'"
      ]
     },
     "execution_count": 26,
     "metadata": {},
     "output_type": "execute_result"
    }
   ],
   "source": [
    "a=\"hello world\"\n",
    "a"
   ]
  },
  {
   "cell_type": "code",
   "execution_count": 27,
   "id": "88e0f84d",
   "metadata": {},
   "outputs": [
    {
     "data": {
      "text/plain": [
       "str"
      ]
     },
     "execution_count": 27,
     "metadata": {},
     "output_type": "execute_result"
    }
   ],
   "source": [
    "type(a)"
   ]
  },
  {
   "cell_type": "code",
   "execution_count": 28,
   "id": "37a4b95f",
   "metadata": {},
   "outputs": [
    {
     "data": {
      "text/plain": [
       "(3+5j)"
      ]
     },
     "execution_count": 28,
     "metadata": {},
     "output_type": "execute_result"
    }
   ],
   "source": [
    "#Complex\n",
    "a=3+5j\n",
    "a"
   ]
  },
  {
   "cell_type": "code",
   "execution_count": 29,
   "id": "83549f13",
   "metadata": {},
   "outputs": [
    {
     "data": {
      "text/plain": [
       "complex"
      ]
     },
     "execution_count": 29,
     "metadata": {},
     "output_type": "execute_result"
    }
   ],
   "source": [
    "type(a)"
   ]
  },
  {
   "cell_type": "code",
   "execution_count": 31,
   "id": "c157cb53",
   "metadata": {},
   "outputs": [],
   "source": [
    "#Airthematic Operators\n",
    "#+,-,/,*"
   ]
  },
  {
   "cell_type": "code",
   "execution_count": 32,
   "id": "0ec7e0dd",
   "metadata": {},
   "outputs": [
    {
     "data": {
      "text/plain": [
       "(10, 20)"
      ]
     },
     "execution_count": 32,
     "metadata": {},
     "output_type": "execute_result"
    }
   ],
   "source": [
    "a=10\n",
    "b=20\n",
    "a,b"
   ]
  },
  {
   "cell_type": "code",
   "execution_count": 33,
   "id": "0f0ca05d",
   "metadata": {},
   "outputs": [
    {
     "data": {
      "text/plain": [
       "30"
      ]
     },
     "execution_count": 33,
     "metadata": {},
     "output_type": "execute_result"
    }
   ],
   "source": [
    "a+b"
   ]
  },
  {
   "cell_type": "code",
   "execution_count": 34,
   "id": "b4b9914b",
   "metadata": {},
   "outputs": [
    {
     "data": {
      "text/plain": [
       "200"
      ]
     },
     "execution_count": 34,
     "metadata": {},
     "output_type": "execute_result"
    }
   ],
   "source": [
    "a*b"
   ]
  },
  {
   "cell_type": "code",
   "execution_count": 35,
   "id": "e798d0a1",
   "metadata": {},
   "outputs": [
    {
     "data": {
      "text/plain": [
       "0.5"
      ]
     },
     "execution_count": 35,
     "metadata": {},
     "output_type": "execute_result"
    }
   ],
   "source": [
    "a/b"
   ]
  },
  {
   "cell_type": "code",
   "execution_count": 36,
   "id": "a260a892",
   "metadata": {},
   "outputs": [],
   "source": [
    "#Relaional operators"
   ]
  },
  {
   "cell_type": "code",
   "execution_count": 37,
   "id": "1dd71682",
   "metadata": {},
   "outputs": [],
   "source": [
    "# <,>,==,!="
   ]
  },
  {
   "cell_type": "code",
   "execution_count": 38,
   "id": "dfb6c738",
   "metadata": {},
   "outputs": [
    {
     "data": {
      "text/plain": [
       "False"
      ]
     },
     "execution_count": 38,
     "metadata": {},
     "output_type": "execute_result"
    }
   ],
   "source": [
    "a=50\n",
    "b=100\n",
    "a>b"
   ]
  },
  {
   "cell_type": "code",
   "execution_count": 39,
   "id": "2d0d6e61",
   "metadata": {},
   "outputs": [
    {
     "data": {
      "text/plain": [
       "True"
      ]
     },
     "execution_count": 39,
     "metadata": {},
     "output_type": "execute_result"
    }
   ],
   "source": [
    "a<b"
   ]
  },
  {
   "cell_type": "code",
   "execution_count": 40,
   "id": "f428fe36",
   "metadata": {},
   "outputs": [
    {
     "data": {
      "text/plain": [
       "False"
      ]
     },
     "execution_count": 40,
     "metadata": {},
     "output_type": "execute_result"
    }
   ],
   "source": [
    "a==b"
   ]
  },
  {
   "cell_type": "code",
   "execution_count": 41,
   "id": "1435b36b",
   "metadata": {},
   "outputs": [
    {
     "data": {
      "text/plain": [
       "True"
      ]
     },
     "execution_count": 41,
     "metadata": {},
     "output_type": "execute_result"
    }
   ],
   "source": [
    "a!=b"
   ]
  },
  {
   "cell_type": "code",
   "execution_count": 42,
   "id": "98a738d8",
   "metadata": {},
   "outputs": [],
   "source": [
    "#Logical operators\n",
    "#& |"
   ]
  },
  {
   "cell_type": "code",
   "execution_count": 43,
   "id": "e4f5ca8f",
   "metadata": {},
   "outputs": [],
   "source": [
    "a=True\n",
    "b=False"
   ]
  },
  {
   "cell_type": "code",
   "execution_count": 44,
   "id": "df209b3d",
   "metadata": {},
   "outputs": [
    {
     "data": {
      "text/plain": [
       "False"
      ]
     },
     "execution_count": 44,
     "metadata": {},
     "output_type": "execute_result"
    }
   ],
   "source": [
    "a&b"
   ]
  },
  {
   "cell_type": "code",
   "execution_count": 45,
   "id": "77a0d901",
   "metadata": {},
   "outputs": [
    {
     "data": {
      "text/plain": [
       "False"
      ]
     },
     "execution_count": 45,
     "metadata": {},
     "output_type": "execute_result"
    }
   ],
   "source": [
    "b&a"
   ]
  },
  {
   "cell_type": "code",
   "execution_count": 46,
   "id": "183392da",
   "metadata": {},
   "outputs": [
    {
     "data": {
      "text/plain": [
       "True"
      ]
     },
     "execution_count": 46,
     "metadata": {},
     "output_type": "execute_result"
    }
   ],
   "source": [
    "a|b"
   ]
  },
  {
   "cell_type": "code",
   "execution_count": 47,
   "id": "db91693a",
   "metadata": {},
   "outputs": [
    {
     "data": {
      "text/plain": [
       "True"
      ]
     },
     "execution_count": 47,
     "metadata": {},
     "output_type": "execute_result"
    }
   ],
   "source": [
    "b|a"
   ]
  },
  {
   "cell_type": "code",
   "execution_count": 48,
   "id": "6edaae8c",
   "metadata": {},
   "outputs": [
    {
     "data": {
      "text/plain": [
       "True"
      ]
     },
     "execution_count": 48,
     "metadata": {},
     "output_type": "execute_result"
    }
   ],
   "source": [
    "a|a"
   ]
  },
  {
   "cell_type": "code",
   "execution_count": 49,
   "id": "540698bc",
   "metadata": {},
   "outputs": [
    {
     "data": {
      "text/plain": [
       "False"
      ]
     },
     "execution_count": 49,
     "metadata": {},
     "output_type": "execute_result"
    }
   ],
   "source": [
    "b|b"
   ]
  },
  {
   "cell_type": "code",
   "execution_count": 51,
   "id": "05e034c2",
   "metadata": {},
   "outputs": [
    {
     "data": {
      "text/plain": [
       "'umar'"
      ]
     },
     "execution_count": 51,
     "metadata": {},
     "output_type": "execute_result"
    }
   ],
   "source": [
    "student=\"umar\"\n",
    "student"
   ]
  },
  {
   "cell_type": "code",
   "execution_count": 53,
   "id": "00c7d717",
   "metadata": {},
   "outputs": [
    {
     "data": {
      "text/plain": [
       "'julia'"
      ]
     },
     "execution_count": 53,
     "metadata": {},
     "output_type": "execute_result"
    }
   ],
   "source": [
    "Student=\"julia\"\n",
    "Student"
   ]
  },
  {
   "cell_type": "code",
   "execution_count": 54,
   "id": "97cd0cfb",
   "metadata": {},
   "outputs": [],
   "source": [
    "# what are Litrals?\n",
    "#Litrals are those data which are not change\n",
    "#Example student=\"Hello World\""
   ]
  },
  {
   "cell_type": "code",
   "execution_count": 55,
   "id": "8feb7ff4",
   "metadata": {},
   "outputs": [],
   "source": [
    "#Python strings\n",
    "#Strings are sequence of Characters enclosed within single quotes(''),double quotes(\"\") or triple quotes(\"''\")\n",
    "#Triple quotes we use Muktiline comments "
   ]
  },
  {
   "cell_type": "code",
   "execution_count": 56,
   "id": "d2db31a4",
   "metadata": {},
   "outputs": [
    {
     "data": {
      "text/plain": [
       "'This is my first string'"
      ]
     },
     "execution_count": 56,
     "metadata": {},
     "output_type": "execute_result"
    }
   ],
   "source": [
    "str1='This is single quotes string'\n",
    "str1"
   ]
  },
  {
   "cell_type": "code",
   "execution_count": 57,
   "id": "e983183b",
   "metadata": {},
   "outputs": [
    {
     "data": {
      "text/plain": [
       "'This is double quotes string'"
      ]
     },
     "execution_count": 57,
     "metadata": {},
     "output_type": "execute_result"
    }
   ],
   "source": [
    "str2='This is double quotes string'\n",
    "str2"
   ]
  },
  {
   "cell_type": "code",
   "execution_count": 58,
   "id": "653d0db4",
   "metadata": {},
   "outputs": [
    {
     "data": {
      "text/plain": [
       "'\\nThis is triple quotes string and \\nhas take lot of lines in it\\n'"
      ]
     },
     "execution_count": 58,
     "metadata": {},
     "output_type": "execute_result"
    }
   ],
   "source": [
    "str3='''\n",
    "This is triple quotes string and \n",
    "has take lot of lines in it\n",
    "'''\n",
    "str3"
   ]
  },
  {
   "cell_type": "code",
   "execution_count": 59,
   "id": "64744ea5",
   "metadata": {},
   "outputs": [
    {
     "data": {
      "text/plain": [
       "'M'"
      ]
     },
     "execution_count": 59,
     "metadata": {},
     "output_type": "execute_result"
    }
   ],
   "source": [
    "#Extracting individual Characters in string using Indexes\n",
    "i=\"My name is Ramzan\"\n",
    "i[0]"
   ]
  },
  {
   "cell_type": "code",
   "execution_count": 60,
   "id": "e73ac374",
   "metadata": {},
   "outputs": [
    {
     "data": {
      "text/plain": [
       "'n'"
      ]
     },
     "execution_count": 60,
     "metadata": {},
     "output_type": "execute_result"
    }
   ],
   "source": [
    "i[-1]"
   ]
  },
  {
   "cell_type": "code",
   "execution_count": 61,
   "id": "f54e48ce",
   "metadata": {},
   "outputs": [
    {
     "data": {
      "text/plain": [
       "'n'"
      ]
     },
     "execution_count": 61,
     "metadata": {},
     "output_type": "execute_result"
    }
   ],
   "source": [
    "i[3]"
   ]
  },
  {
   "cell_type": "code",
   "execution_count": 62,
   "id": "30d8e0fd",
   "metadata": {},
   "outputs": [
    {
     "data": {
      "text/plain": [
       "' '"
      ]
     },
     "execution_count": 62,
     "metadata": {},
     "output_type": "execute_result"
    }
   ],
   "source": [
    "i[2]"
   ]
  },
  {
   "cell_type": "code",
   "execution_count": 63,
   "id": "aaf20057",
   "metadata": {},
   "outputs": [
    {
     "data": {
      "text/plain": [
       "'name is'"
      ]
     },
     "execution_count": 63,
     "metadata": {},
     "output_type": "execute_result"
    }
   ],
   "source": [
    "i[3:10]"
   ]
  },
  {
   "cell_type": "code",
   "execution_count": 66,
   "id": "78a9dc37",
   "metadata": {},
   "outputs": [
    {
     "data": {
      "text/plain": [
       "17"
      ]
     },
     "execution_count": 66,
     "metadata": {},
     "output_type": "execute_result"
    }
   ],
   "source": [
    "#String Functins\n",
    " # 1 Finding the Length of string\n",
    "len(i)"
   ]
  },
  {
   "cell_type": "code",
   "execution_count": 68,
   "id": "b243c21c",
   "metadata": {},
   "outputs": [
    {
     "data": {
      "text/plain": [
       "'MY NAME IS RAMZAN'"
      ]
     },
     "execution_count": 68,
     "metadata": {},
     "output_type": "execute_result"
    }
   ],
   "source": [
    "#Converting String to Lowe Case\n",
    "i.upper()"
   ]
  },
  {
   "cell_type": "code",
   "execution_count": 69,
   "id": "1d16e4a0",
   "metadata": {},
   "outputs": [
    {
     "data": {
      "text/plain": [
       "'my name is ramzan'"
      ]
     },
     "execution_count": 69,
     "metadata": {},
     "output_type": "execute_result"
    }
   ],
   "source": [
    "i.lower()\n"
   ]
  },
  {
   "cell_type": "code",
   "execution_count": 71,
   "id": "f273818b",
   "metadata": {},
   "outputs": [
    {
     "data": {
      "text/plain": [
       "'Ma name is Ramzan'"
      ]
     },
     "execution_count": 71,
     "metadata": {},
     "output_type": "execute_result"
    }
   ],
   "source": [
    " #Replacing a substring\n",
    "  #Takes two parameters\n",
    "i.replace('y','a')"
   ]
  },
  {
   "cell_type": "code",
   "execution_count": null,
   "id": "b9a71191",
   "metadata": {},
   "outputs": [],
   "source": [
    " #Counting the Number of occurence in substring"
   ]
  },
  {
   "cell_type": "code",
   "execution_count": 73,
   "id": "c9745e05",
   "metadata": {},
   "outputs": [
    {
     "data": {
      "text/plain": [
       "2"
      ]
     },
     "execution_count": 73,
     "metadata": {},
     "output_type": "execute_result"
    }
   ],
   "source": [
    "t=\"hello hello World\"\n",
    "t.count(\"hello\")"
   ]
  },
  {
   "cell_type": "code",
   "execution_count": 76,
   "id": "99262c18",
   "metadata": {},
   "outputs": [
    {
     "data": {
      "text/plain": [
       "12"
      ]
     },
     "execution_count": 76,
     "metadata": {},
     "output_type": "execute_result"
    }
   ],
   "source": [
    "#Finding the index of substring we use find function\n",
    "t.find(\"World\")"
   ]
  },
  {
   "cell_type": "code",
   "execution_count": 78,
   "id": "4eff6009",
   "metadata": {},
   "outputs": [
    {
     "data": {
      "text/plain": [
       "['I lik', ' appl', 's,mango', 's,bnanas']"
      ]
     },
     "execution_count": 78,
     "metadata": {},
     "output_type": "execute_result"
    }
   ],
   "source": [
    "#Spliting a String \n",
    "fruit=\"I like apples,mangoes,bnanas\"\n",
    "fruit.split('e')"
   ]
  },
  {
   "cell_type": "markdown",
   "id": "c2e6d7e3",
   "metadata": {},
   "source": []
  },
  {
   "cell_type": "code",
   "execution_count": 79,
   "id": "727de2ae",
   "metadata": {},
   "outputs": [
    {
     "data": {
      "text/plain": [
       "str"
      ]
     },
     "execution_count": 79,
     "metadata": {},
     "output_type": "execute_result"
    }
   ],
   "source": [
    "type(fruit)"
   ]
  },
  {
   "cell_type": "code",
   "execution_count": 80,
   "id": "6b9597dc",
   "metadata": {},
   "outputs": [],
   "source": [
    "#Data structures in Python \n",
    "#List, Tuple,Set,Dictionary"
   ]
  },
  {
   "cell_type": "code",
   "execution_count": 81,
   "id": "fdaf7212",
   "metadata": {},
   "outputs": [],
   "source": [
    "#Tuple\n",
    "#Tuple is an orderd collections of elements enclosed()\n",
    "#Tuples are used to store multiple items in a single variable.\n",
    "\n",
    "#Tuple is one of 4 built-in data types in Python used to store collections of data, the other 3 are List, Set, and Dictionary, all with different qualities and usage.\n",
    "\n",
    "#A tuple is a collection which is ordered and unchangeable.\n",
    "\n",
    "#Tuples are written with round brackets().\n"
   ]
  },
  {
   "cell_type": "code",
   "execution_count": 87,
   "id": "ce93cb57",
   "metadata": {},
   "outputs": [
    {
     "data": {
      "text/plain": [
       "(1, True, 4, 'hello', 3.14, (4-7j))"
      ]
     },
     "execution_count": 87,
     "metadata": {},
     "output_type": "execute_result"
    }
   ],
   "source": [
    " tup1=(1,True,4,\"hello\",3.14,4-7j)\n",
    "tup1"
   ]
  },
  {
   "cell_type": "code",
   "execution_count": 88,
   "id": "fb020dbb",
   "metadata": {},
   "outputs": [
    {
     "data": {
      "text/plain": [
       "tuple"
      ]
     },
     "execution_count": 88,
     "metadata": {},
     "output_type": "execute_result"
    }
   ],
   "source": [
    "type(tup1)"
   ]
  },
  {
   "cell_type": "code",
   "execution_count": 89,
   "id": "3c71629a",
   "metadata": {},
   "outputs": [],
   "source": [
    "#Extrcting the tuple is same as string"
   ]
  },
  {
   "cell_type": "code",
   "execution_count": null,
   "id": "c5a67832",
   "metadata": {},
   "outputs": [],
   "source": [
    "#Basic Tuple operation and functions"
   ]
  },
  {
   "cell_type": "code",
   "execution_count": 92,
   "id": "a8e61aba",
   "metadata": {},
   "outputs": [
    {
     "data": {
      "text/plain": [
       "6"
      ]
     },
     "execution_count": 92,
     "metadata": {},
     "output_type": "execute_result"
    }
   ],
   "source": [
    "  #Finding the length of Tuple\n",
    "len(tup1)"
   ]
  },
  {
   "cell_type": "code",
   "execution_count": 93,
   "id": "834b430c",
   "metadata": {},
   "outputs": [
    {
     "data": {
      "text/plain": [
       "((1, True, 4, 'hello', 3.14, (4-7j)), (4, 5, 6))"
      ]
     },
     "execution_count": 93,
     "metadata": {},
     "output_type": "execute_result"
    }
   ],
   "source": [
    "#Concation of Tuple\n",
    "tup2=(4,5,6)\n",
    "tup1,tup2"
   ]
  },
  {
   "cell_type": "code",
   "execution_count": 94,
   "id": "781e041b",
   "metadata": {},
   "outputs": [
    {
     "data": {
      "text/plain": [
       "(1, True, 4, 'hello', 3.14, (4-7j), 4, 5, 6)"
      ]
     },
     "execution_count": 94,
     "metadata": {},
     "output_type": "execute_result"
    }
   ],
   "source": [
    "tup1+tup2"
   ]
  },
  {
   "cell_type": "code",
   "execution_count": 95,
   "id": "217539fe",
   "metadata": {},
   "outputs": [
    {
     "data": {
      "text/plain": [
       "(4, 5, 6, 1, True, 4, 'hello', 3.14, (4-7j))"
      ]
     },
     "execution_count": 95,
     "metadata": {},
     "output_type": "execute_result"
    }
   ],
   "source": [
    "tup2+tup1"
   ]
  },
  {
   "cell_type": "code",
   "execution_count": 96,
   "id": "ca251f72",
   "metadata": {},
   "outputs": [
    {
     "data": {
      "text/plain": [
       "(4, 5, 6, 4, 5, 6, 4, 5, 6)"
      ]
     },
     "execution_count": 96,
     "metadata": {},
     "output_type": "execute_result"
    }
   ],
   "source": [
    "tup2*3"
   ]
  },
  {
   "cell_type": "code",
   "execution_count": 98,
   "id": "d080cb2d",
   "metadata": {},
   "outputs": [
    {
     "data": {
      "text/plain": [
       "12"
      ]
     },
     "execution_count": 98,
     "metadata": {},
     "output_type": "execute_result"
    }
   ],
   "source": [
    "#Min and Max Functions in Tuple\n",
    "tup3=(12,44,55)\n",
    "min(tup3)\n"
   ]
  },
  {
   "cell_type": "code",
   "execution_count": 99,
   "id": "082be71d",
   "metadata": {},
   "outputs": [
    {
     "data": {
      "text/plain": [
       "55"
      ]
     },
     "execution_count": 99,
     "metadata": {},
     "output_type": "execute_result"
    }
   ],
   "source": [
    "max(tup3)"
   ]
  },
  {
   "cell_type": "code",
   "execution_count": 100,
   "id": "7ee83351",
   "metadata": {},
   "outputs": [],
   "source": [
    "#List Data structure in python\n",
    "#Lists are used to store multiple items in a single variable.\n",
    "\n",
    "#Lists is an ordered collection of elements enclosed within[].\n",
    "\n",
    "#Lists are created using square brackets:\n",
    "#Lis is mutable"
   ]
  },
  {
   "cell_type": "code",
   "execution_count": 3,
   "id": "773fb760",
   "metadata": {},
   "outputs": [
    {
     "data": {
      "text/plain": [
       "[1, 'hello', 5.6]"
      ]
     },
     "execution_count": 3,
     "metadata": {},
     "output_type": "execute_result"
    }
   ],
   "source": [
    "list1=[1,\"hello\",5.6]\n",
    "list1"
   ]
  },
  {
   "cell_type": "code",
   "execution_count": 4,
   "id": "686a471f",
   "metadata": {},
   "outputs": [
    {
     "data": {
      "text/plain": [
       "[1, 'world', 5.6]"
      ]
     },
     "execution_count": 4,
     "metadata": {},
     "output_type": "execute_result"
    }
   ],
   "source": [
    "list1[1]=\"world\"\n",
    "list1"
   ]
  },
  {
   "cell_type": "code",
   "execution_count": 9,
   "id": "b14213c7",
   "metadata": {},
   "outputs": [
    {
     "data": {
      "text/plain": [
       "5.6"
      ]
     },
     "execution_count": 9,
     "metadata": {},
     "output_type": "execute_result"
    }
   ],
   "source": [
    "\n",
    "list1[-1]"
   ]
  },
  {
   "cell_type": "code",
   "execution_count": null,
   "id": "88ab4ad6",
   "metadata": {},
   "outputs": [],
   "source": []
  }
 ],
 "metadata": {
  "kernelspec": {
   "display_name": "Python 3 (ipykernel)",
   "language": "python",
   "name": "python3"
  },
  "language_info": {
   "codemirror_mode": {
    "name": "ipython",
    "version": 3
   },
   "file_extension": ".py",
   "mimetype": "text/x-python",
   "name": "python",
   "nbconvert_exporter": "python",
   "pygments_lexer": "ipython3",
   "version": "3.9.4"
  }
 },
 "nbformat": 4,
 "nbformat_minor": 5
}
